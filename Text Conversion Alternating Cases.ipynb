{
  "nbformat": 4,
  "nbformat_minor": 0,
  "metadata": {
    "colab": {
      "provenance": [],
      "toc_visible": true,
      "authorship_tag": "ABX9TyNKSU+F63bakNcnlT9awP4S",
      "include_colab_link": true
    },
    "kernelspec": {
      "name": "python3",
      "display_name": "Python 3"
    },
    "language_info": {
      "name": "python"
    }
  },
  "cells": [
    {
      "cell_type": "markdown",
      "metadata": {
        "id": "view-in-github",
        "colab_type": "text"
      },
      "source": [
        "<a href=\"https://colab.research.google.com/github/neerajthandayan/Misc./blob/main/Text%20Conversion%20Alternating%20Cases.ipynb\" target=\"_parent\"><img src=\"https://colab.research.google.com/assets/colab-badge.svg\" alt=\"Open In Colab\"/></a>"
      ]
    },
    {
      "cell_type": "code",
      "execution_count": 18,
      "metadata": {
        "id": "pnLrwrwNgHdY"
      },
      "outputs": [],
      "source": [
        "# Text Conversion Code\n",
        "\n",
        "def text_converter(text):\n",
        "  import re\n",
        "  converted = []\n",
        "  n = 1\n",
        "\n",
        "  for i in text:\n",
        "    if (re.match(\"\\w\",i) != None) == True:\n",
        "      if (n % 2) == 1:\n",
        "        converted.append(i.lower())\n",
        "      else:\n",
        "        converted.append(i.upper())\n",
        "      n += 1\n",
        "    else:\n",
        "      converted.append(i)\n",
        "\n",
        "  return \"\".join(str(x) for x in converted) "
      ]
    },
    {
      "cell_type": "code",
      "source": [
        "text_converter(\"Hello I hope this works\")"
      ],
      "metadata": {
        "colab": {
          "base_uri": "https://localhost:8080/",
          "height": 36
        },
        "id": "VXskE9FvkQYv",
        "outputId": "b8c963aa-835d-41b0-cadc-e8a1a1f3f0a6"
      },
      "execution_count": 19,
      "outputs": [
        {
          "output_type": "execute_result",
          "data": {
            "text/plain": [
              "'hElLo I hOpE tHiS wOrKs'"
            ],
            "application/vnd.google.colaboratory.intrinsic+json": {
              "type": "string"
            }
          },
          "metadata": {},
          "execution_count": 19
        }
      ]
    }
  ]
}